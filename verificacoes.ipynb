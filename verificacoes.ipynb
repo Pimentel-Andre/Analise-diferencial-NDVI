{
 "cells": [
  {
   "cell_type": "code",
   "execution_count": 3,
   "metadata": {},
   "outputs": [],
   "source": [
    "import os\n",
    "import numpy as np\n",
    "import rasterio\n",
    "from rasterio.mask import mask\n",
    "import openeo\n",
    "import json\n",
    "import time\n",
    "from datetime import datetime, timedelta\n",
    "import requests\n",
    "import subprocess\n",
    "import os\n",
    "import json\n",
    "import openeo\n",
    "from oauthlib.oauth2 import BackendApplicationClient\n",
    "from requests_oauthlib import OAuth2Session"
   ]
  },
  {
   "cell_type": "code",
   "execution_count": 4,
   "metadata": {},
   "outputs": [
    {
     "data": {
      "text/html": [
       "Visit <a href=\"https://identity.dataspace.copernicus.eu/auth/realms/CDSE/device?user_code=CGQP-QJHU\" title=\"Authenticate at https://identity.dataspace.copernicus.eu/auth/realms/CDSE/device?user_code=CGQP-QJHU\" target=\"_blank\" rel=\"noopener noreferrer\">https://identity.dataspace.copernicus.eu/auth/realms/CDSE/device?user_code=CGQP-QJHU</a> <a href=\"#\" onclick=\"navigator.clipboard.writeText('https://identity.dataspace.copernicus.eu/auth/realms/CDSE/device?user_code=CGQP-QJHU');return false;\" title=\"Copy authentication URL to clipboard\">&#128203;</a> to authenticate."
      ]
     },
     "metadata": {},
     "output_type": "display_data"
    },
    {
     "data": {
      "text/html": [
       "✅ Authorized successfully"
      ]
     },
     "metadata": {},
     "output_type": "display_data"
    },
    {
     "data": {
      "text/plain": [
       "<Connection to 'https://openeo.dataspace.copernicus.eu/openeo/1.2/' with OidcBearerAuth>"
      ]
     },
     "execution_count": 4,
     "metadata": {},
     "output_type": "execute_result"
    }
   ],
   "source": [
    "# Conectando ao serviço OpenEO\n",
    "# Aqui, precisei fazer login no site. Isso me permitiu autenticar\n",
    "connection = openeo.connect(\"openeo.dataspace.copernicus.eu\")\n",
    "connection.authenticate_oidc_device(store_refresh_token=True)"
   ]
  },
  {
   "cell_type": "code",
   "execution_count": 5,
   "metadata": {},
   "outputs": [
    {
     "name": "stdout",
     "output_type": "stream",
     "text": [
      "SENTINEL3_OLCI_L1B\n",
      "SENTINEL3_SLSTR\n",
      "SENTINEL_5P_L2\n",
      "COPERNICUS_VEGETATION_PHENOLOGY_PRODUCTIVITY_10M_SEASON1\n",
      "COPERNICUS_VEGETATION_PHENOLOGY_PRODUCTIVITY_10M_SEASON2\n",
      "COPERNICUS_PLANT_PHENOLOGY_INDEX\n",
      "ESA_WORLDCOVER_10M_2020_V1\n",
      "ESA_WORLDCOVER_10M_2021_V2\n",
      "COPERNICUS_VEGETATION_INDICES\n",
      "SENTINEL2_L1C\n",
      "SENTINEL2_L2A\n",
      "SENTINEL1_GRD\n",
      "COPERNICUS_30\n",
      "LANDSAT8_L2\n",
      "SENTINEL3_SYN_L2_SYN\n",
      "SENTINEL3_SLSTR_L2_LST\n",
      "SENTINEL1_GLOBAL_MOSAICS\n"
     ]
    }
   ],
   "source": [
    "# Para definirmos as coleções que podemos usar\n",
    "collections = connection.list_collections()\n",
    "for collection in collections:\n",
    "    print(collection['id'])"
   ]
  },
  {
   "cell_type": "markdown",
   "metadata": {},
   "source": [
    "Vamos selecionar a SENTINEL2_L2A, que realiza correção atmosférica.  \n",
    "COPERNICUS/S2 (L1C): São produtos de reflectância no topo da atmosfera (TOA) sem correção atmosférica.    \n",
    "\n",
    "COPERNICUS/S2_SR (L2A): São produtos de reflectância de superfície (SR) que já passaram por correção atmosférica. Estas imagens são processadas com o algoritmo Sen2Cor, que remove os efeitos atmosféricos."
   ]
  },
  {
   "cell_type": "code",
   "execution_count": null,
   "metadata": {},
   "outputs": [
    {
     "name": "stdout",
     "output_type": "stream",
     "text": [
      "Bandas disponíveis na coleção SENTINEL2_L2A:\n",
      "['B01', 'B02', 'B03', 'B04', 'B05', 'B06', 'B07', 'B08', 'B8A', 'B09', 'B11', 'B12', 'WVP', 'AOT', 'SCL', 'sunAzimuthAngles', 'sunZenithAngles', 'viewAzimuthMean', 'viewZenithMean']\n"
     ]
    }
   ],
   "source": [
    "# Para saber o nome das bandas a extrair\n",
    "satelite = 'SENTINEL2_L2A' # Diga aqui o satélite de interesse\n",
    "collection_details = connection.describe_collection(satelite)\n",
    "\n",
    "# Lista as bandas disponíveis\n",
    "bands = [band['name'] for band in collection_details['summaries']['eo:bands']]\n",
    "print(f\"Bandas disponíveis na coleção {satelite}:\") \n",
    "print(bands)"
   ]
  }
 ],
 "metadata": {
  "kernelspec": {
   "display_name": "venv_veg_index",
   "language": "python",
   "name": "python3"
  },
  "language_info": {
   "codemirror_mode": {
    "name": "ipython",
    "version": 3
   },
   "file_extension": ".py",
   "mimetype": "text/x-python",
   "name": "python",
   "nbconvert_exporter": "python",
   "pygments_lexer": "ipython3",
   "version": "3.10.12"
  }
 },
 "nbformat": 4,
 "nbformat_minor": 2
}
